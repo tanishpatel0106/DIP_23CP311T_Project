{
 "cells": [
  {
   "cell_type": "code",
   "execution_count": 1,
   "metadata": {},
   "outputs": [],
   "source": [
    "import cv2\n",
    "import numpy as np\n",
    "import matplotlib.pyplot as plt\n",
    "import matplotlib.patches as mpatches"
   ]
  },
  {
   "cell_type": "code",
   "execution_count": 3,
   "metadata": {},
   "outputs": [],
   "source": [
    "def calculate_density(patch):\n",
    "    return np.sum(patch) / (patch.size * 255)"
   ]
  },
  {
   "cell_type": "code",
   "execution_count": 4,
   "metadata": {},
   "outputs": [],
   "source": [
    "def calculate_transitions(patch):\n",
    "    horizontal_transitions = np.sum(np.abs(np.diff(patch, axis=1))) / 255\n",
    "    vertical_transitions = np.sum(np.abs(np.diff(patch, axis=0))) / 255\n",
    "    return horizontal_transitions, vertical_transitions"
   ]
  },
  {
   "cell_type": "code",
   "execution_count": 5,
   "metadata": {},
   "outputs": [],
   "source": [
    "def compute_variation(contours):\n",
    "    heights = [cv2.boundingRect(contour)[3] for contour in contours]\n",
    "    widths = [cv2.boundingRect(contour)[2] for contour in contours]\n",
    "    return np.std(heights), np.std(widths) if heights and widths else (0, 0)"
   ]
  },
  {
   "cell_type": "code",
   "execution_count": 6,
   "metadata": {},
   "outputs": [],
   "source": [
    "def compute_components(patch):\n",
    "    num_labels, labels, stats, _ = cv2.connectedComponentsWithStats(patch)\n",
    "    sizes = stats[1:, cv2.CC_STAT_AREA]\n",
    "    return num_labels - 1, np.max(sizes) if sizes.size > 0 else 0"
   ]
  },
  {
   "cell_type": "code",
   "execution_count": 7,
   "metadata": {},
   "outputs": [],
   "source": [
    "def compute_run_lengths(patch):\n",
    "    max_run_length = 0\n",
    "    total_run_length = 0\n",
    "    run_count = 0\n",
    "    for row in patch:\n",
    "        current_run_length = 0\n",
    "        for pixel in row:\n",
    "            if pixel == 255:\n",
    "                current_run_length += 1\n",
    "            else:\n",
    "                if current_run_length > 0:\n",
    "                    max_run_length = max(max_run_length, current_run_length)\n",
    "                    total_run_length += current_run_length\n",
    "                    run_count += 1\n",
    "                    current_run_length = 0\n",
    "        if current_run_length > 0:\n",
    "            max_run_length = max(max_run_length, current_run_length)\n",
    "            total_run_length += current_run_length\n",
    "            run_count += 1\n",
    "    avg_run_length = total_run_length / run_count if run_count > 0 else 0\n",
    "    return max_run_length, avg_run_length"
   ]
  },
  {
   "cell_type": "code",
   "execution_count": 8,
   "metadata": {},
   "outputs": [],
   "source": [
    "def compute_convex_hull(patch):\n",
    "    contours, _ = cv2.findContours(patch, cv2.RETR_EXTERNAL, cv2.CHAIN_APPROX_SIMPLE)\n",
    "    if contours:\n",
    "        all_points = np.vstack(contours)\n",
    "        hull = cv2.convexHull(all_points)\n",
    "        return len(hull)\n",
    "    else:\n",
    "        return 0"
   ]
  },
  {
   "cell_type": "code",
   "execution_count": 9,
   "metadata": {},
   "outputs": [],
   "source": [
    "def apply_gabor_filter(patch, kernel_size=31, sigma=4.0, lambd=10.0, gamma=0.5, psi=0, theta=0):\n",
    "    kernel = cv2.getGaborKernel((kernel_size, kernel_size), sigma, theta, lambd, gamma, psi, ktype=cv2.CV_32F)\n",
    "    filtered_patch = cv2.filter2D(patch, cv2.CV_8UC3, kernel)\n",
    "    return filtered_patch\n",
    "\n",
    "def extract_gabor_features(patch):\n",
    "    gabor_features = {}\n",
    "    thetas = [0, np.pi/4, np.pi/2, 3*np.pi/4]  # Four orientations: 0, 45, 90, 135 degrees\n",
    "    for i, theta in enumerate(thetas):\n",
    "        filtered_patch = apply_gabor_filter(patch, theta=theta)\n",
    "        gabor_features[f'gabor_mean_{i}'] = np.mean(filtered_patch)\n",
    "        gabor_features[f'gabor_std_{i}'] = np.std(filtered_patch)\n",
    "    return gabor_features"
   ]
  },
  {
   "cell_type": "code",
   "execution_count": 10,
   "metadata": {},
   "outputs": [],
   "source": [
    "def extract_state_features(patches):\n",
    "    state_features_list = []\n",
    "    for stat, patch in patches:\n",
    "        features = {}\n",
    "        # State features\n",
    "        features['height'] = stat[cv2.CC_STAT_HEIGHT]\n",
    "        features['width'] = stat[cv2.CC_STAT_WIDTH]\n",
    "        features['aspect_ratio'] = features['width'] / features['height']\n",
    "        features['density'] = calculate_density(patch)\n",
    "        horizontal_transitions, vertical_transitions = calculate_transitions(patch)\n",
    "        features['horizontal_transitions'] = horizontal_transitions\n",
    "        features['vertical_transitions'] = vertical_transitions\n",
    "        variation_of_height, width_variation = compute_variation(patch)\n",
    "        features['variation_of_height'] = variation_of_height\n",
    "        features['width_variation'] = width_variation\n",
    "        num_components, max_component_size = compute_components(patch)\n",
    "        features['num_components'] = num_components\n",
    "        features['max_component_size'] = max_component_size\n",
    "        max_run_length, avg_run_length = compute_run_lengths(patch)\n",
    "        features['max_run_length'] = max_run_length\n",
    "        features['avg_run_length'] = avg_run_length\n",
    "        features['points_in_convex_hull'] = compute_convex_hull(patch)\n",
    "        gabor_features = extract_gabor_features(patch)\n",
    "        features.update(gabor_features)        \n",
    "        # Append to the state features list\n",
    "        state_features_list.append(features)\n",
    "    return state_features_list"
   ]
  },
  {
   "cell_type": "code",
   "execution_count": 11,
   "metadata": {},
   "outputs": [],
   "source": [
    "def calculate_distance_between_hulls(hull1, hull2):\n",
    "    min_dist = float('inf')\n",
    "    for point1 in hull1:\n",
    "        for point2 in hull2:\n",
    "            dist = np.linalg.norm(point1 - point2)\n",
    "            if dist < min_dist:\n",
    "                min_dist = dist\n",
    "    return min_dist"
   ]
  },
  {
   "cell_type": "code",
   "execution_count": 12,
   "metadata": {},
   "outputs": [],
   "source": [
    "def determine_relative_location(patch1_stat, patch2_stat):\n",
    "    # Assuming a simple left/right top/bottom relation based on the centroid of the patches\n",
    "    centroid1_x = patch1_stat[cv2.CC_STAT_LEFT] + patch1_stat[cv2.CC_STAT_WIDTH] / 2\n",
    "    centroid2_x = patch2_stat[cv2.CC_STAT_LEFT] + patch2_stat[cv2.CC_STAT_WIDTH] / 2\n",
    "    centroid1_y = patch1_stat[cv2.CC_STAT_TOP] + patch1_stat[cv2.CC_STAT_HEIGHT] / 2\n",
    "    centroid2_y = patch2_stat[cv2.CC_STAT_TOP] + patch2_stat[cv2.CC_STAT_HEIGHT] / 2\n",
    "    \n",
    "    if centroid1_x < centroid2_x:\n",
    "        return 'left'\n",
    "    elif centroid1_x > centroid2_x:\n",
    "        return 'right'\n",
    "    elif centroid1_y < centroid2_y:\n",
    "        return 'top'\n",
    "    else:\n",
    "        return 'bottom'"
   ]
  },
  {
   "cell_type": "code",
   "execution_count": 13,
   "metadata": {},
   "outputs": [],
   "source": [
    "def extract_transition_features(patches, state_features):\n",
    "    transition_features_list = []\n",
    "    for i in range(len(patches) - 1):\n",
    "        patch1_stat, patch1 = patches[i]\n",
    "        patch2_stat, patch2 = patches[i + 1]\n",
    "        features = {}\n",
    "        features['relative_location'] = determine_relative_location(patch1_stat, patch2_stat)\n",
    "        features['convex_hull_distance'] = calculate_distance_between_hulls(patch1, patch2)\n",
    "        features['ratio_of_aspect_ratios'] = (state_features[i]['aspect_ratio'] /\n",
    "                                              state_features[i + 1]['aspect_ratio'])\n",
    "        features['ratio_of_number_of_components'] = (state_features[i]['num_components'] /\n",
    "                                                     state_features[i + 1]['num_components'])\n",
    "        transition_features_list.append(features)\n",
    "    return transition_features_list"
   ]
  },
  {
   "cell_type": "code",
   "execution_count": 16,
   "metadata": {},
   "outputs": [],
   "source": [
    "def convert_to_binary(image_path, threshold=127):\n",
    "    image = cv2.imread(image_path)\n",
    "    gray = cv2.cvtColor(image, cv2.COLOR_BGR2GRAY)\n",
    "    blurred = cv2.GaussianBlur(gray, (5, 5), 0)\n",
    "    _, binary = cv2.threshold(blurred, threshold, 255, cv2.THRESH_BINARY_INV)\n",
    "    return binary\n",
    "\n",
    "def find_patches(binary_image):\n",
    "    num_labels, labels, stats, centroids = cv2.connectedComponentsWithStats(binary_image)\n",
    "    min_area = 10  # This is a parameter you might need to tune\n",
    "    patches = [(stats[i], (labels == i).astype(np.uint8) * 255) for i in range(1, num_labels) if stats[i, cv2.CC_STAT_AREA] > min_area]\n",
    "    return patches"
   ]
  },
  {
   "cell_type": "code",
   "execution_count": 17,
   "metadata": {},
   "outputs": [],
   "source": [
    "image_path = '/home/tanishpatel01/Downloads/Images_dataset/Gujarati/13.jpg'  # Replace with your image path\n",
    "\n",
    "# Convert the image to a binary image\n",
    "binary_image = convert_to_binary(image_path)\n",
    "\n",
    "# Find patches\n",
    "patches = find_patches(binary_image)"
   ]
  },
  {
   "cell_type": "code",
   "execution_count": 20,
   "metadata": {},
   "outputs": [],
   "source": [
    "def process_patches(patches):\n",
    "    state_features = extract_state_features(patches)\n",
    "    transition_features = extract_transition_features(patches, state_features)\n",
    "    return state_features, transition_features\n"
   ]
  },
  {
   "cell_type": "code",
   "execution_count": 22,
   "metadata": {},
   "outputs": [],
   "source": [
    "state_features, transition_features = process_patches(patches)"
   ]
  },
  {
   "cell_type": "code",
   "execution_count": 23,
   "metadata": {},
   "outputs": [
    {
     "name": "stdout",
     "output_type": "stream",
     "text": [
      "Patch 0 state features: {'height': 48, 'width': 41, 'aspect_ratio': 0.8541666666666666, 'density': 0.0026246238547789516, 'horizontal_transitions': 86.33725490196079, 'vertical_transitions': 65.25490196078431, 'variation_of_height': 9.957293581534959, 'width_variation': 0.3711340206185567, 'num_components': 1, 'max_component_size': 860, 'max_run_length': 29, 'avg_run_length': 10.0, 'points_in_convex_hull': 23, 'gabor_mean_0': 1.4139123375632503, 'gabor_std_0': 18.231519529883613, 'gabor_mean_1': 1.5805301740186652, 'gabor_std_1': 19.2755791857702, 'gabor_mean_2': 1.6389341585639035, 'gabor_std_2': 19.777436234410406, 'gabor_mean_3': 1.8836101395933664, 'gabor_std_3': 20.981469350781776}\n",
      "Patch 1 state features: {'height': 161, 'width': 193, 'aspect_ratio': 1.1987577639751552, 'density': 0.020588037818998615, 'horizontal_transitions': 605.364705882353, 'vertical_transitions': 578.2588235294118, 'variation_of_height': 82.76455556783534, 'width_variation': 0.4971547866352373, 'num_components': 1, 'max_component_size': 6746, 'max_run_length': 87, 'avg_run_length': 11.187396351575456, 'points_in_convex_hull': 44, 'gabor_mean_0': 12.828892835997632, 'gabor_std_0': 53.835872393581276, 'gabor_mean_1': 13.942929690599573, 'gabor_std_1': 55.71643033572692, 'gabor_mean_2': 13.241187672813169, 'gabor_std_2': 54.676471974331974, 'gabor_mean_3': 13.907790249827569, 'gabor_std_3': 55.46012976422532}\n",
      "Patch 2 state features: {'height': 131, 'width': 104, 'aspect_ratio': 0.7938931297709924, 'density': 0.009402867554155757, 'horizontal_transitions': 285.1137254901961, 'vertical_transitions': 190.7450980392157, 'variation_of_height': 36.63722686641442, 'width_variation': 0.49751095727433287, 'num_components': 1, 'max_component_size': 3081, 'max_run_length': 53, 'avg_run_length': 10.848591549295774, 'points_in_convex_hull': 19, 'gabor_mean_0': 5.153455042634878, 'gabor_std_0': 34.756621301254626, 'gabor_mean_1': 6.289196926138202, 'gabor_std_1': 37.96186968062781, 'gabor_mean_2': 6.263295550957377, 'gabor_std_2': 38.247465475587184, 'gabor_mean_3': 5.98811899922482, 'gabor_std_3': 37.22388571643539}\n",
      "Patch 3 state features: {'height': 97, 'width': 139, 'aspect_ratio': 1.4329896907216495, 'density': 0.010306226462312232, 'horizontal_transitions': 230.90196078431373, 'vertical_transitions': 258.0078431372549, 'variation_of_height': 40.735828001297726, 'width_variation': 0.47140452079103173, 'num_components': 1, 'max_component_size': 3377, 'max_run_length': 63, 'avg_run_length': 14.682608695652174, 'points_in_convex_hull': 23, 'gabor_mean_0': 5.931320307874482, 'gabor_std_0': 37.12764118277175, 'gabor_mean_1': 5.962419048665409, 'gabor_std_1': 37.22425008620387, 'gabor_mean_2': 5.703420556298182, 'gabor_std_2': 36.5903910754738, 'gabor_mean_3': 6.237464369205227, 'gabor_std_3': 38.10867806408192}\n",
      "Patch 4 state features: {'height': 124, 'width': 100, 'aspect_ratio': 0.8064516129032258, 'density': 0.007535111973778177, 'horizontal_transitions': 204.8, 'vertical_transitions': 166.65098039215687, 'variation_of_height': 34.616116254435155, 'width_variation': 0.49451115098143905, 'num_components': 1, 'max_component_size': 2469, 'max_run_length': 89, 'avg_run_length': 12.102941176470589, 'points_in_convex_hull': 20, 'gabor_mean_0': 4.645733765480703, 'gabor_std_0': 32.86973269852959, 'gabor_mean_1': 5.238938431207388, 'gabor_std_1': 34.74446676751971, 'gabor_mean_2': 4.791525516837267, 'gabor_std_2': 33.314599139387894, 'gabor_mean_3': 4.642758174482553, 'gabor_std_3': 32.791120001983074}\n",
      "Patch 5 state features: {'height': 112, 'width': 123, 'aspect_ratio': 1.0982142857142858, 'density': 0.009540202523301166, 'horizontal_transitions': 280.09411764705885, 'vertical_transitions': 268.0470588235294, 'variation_of_height': 39.880616237039455, 'width_variation': 0.4865668734138243, 'num_components': 1, 'max_component_size': 3126, 'max_run_length': 103, 'avg_run_length': 11.204301075268818, 'points_in_convex_hull': 21, 'gabor_mean_0': 5.807944675370652, 'gabor_std_0': 36.843665444747856, 'gabor_mean_1': 6.13063912642752, 'gabor_std_1': 37.67185670107656, 'gabor_mean_2': 5.74705340193978, 'gabor_std_2': 36.630754044605204, 'gabor_mean_3': 6.10561974693743, 'gabor_std_3': 37.64710781860467}\n",
      "Patch 6 state features: {'height': 8, 'width': 7, 'aspect_ratio': 0.875, 'density': 0.00010986797531632821, 'horizontal_transitions': 8.031372549019608, 'vertical_transitions': 7.027450980392157, 'variation_of_height': 0.7985089019564542, 'width_variation': 0.163510340252513, 'num_components': 1, 'max_component_size': 36, 'max_run_length': 7, 'avg_run_length': 4.5, 'points_in_convex_hull': 7, 'gabor_mean_0': 0.2436108720465352, 'gabor_std_0': 7.156596327069913, 'gabor_mean_1': 0.26765975108799817, 'gabor_std_1': 7.562145088155271, 'gabor_mean_2': 0.23857220462300024, 'gabor_std_2': 7.025003571548962, 'gabor_mean_3': 0.2740137823271258, 'gabor_std_3': 7.54216238317157}\n",
      "Patch 7 state features: {'height': 78, 'width': 12, 'aspect_ratio': 0.15384615384615385, 'density': 0.0018830150213937362, 'horizontal_transitions': 78.30588235294118, 'vertical_transitions': 20.07843137254902, 'variation_of_height': 3.6092618439845654, 'width_variation': 0.44293919709156365, 'num_components': 1, 'max_component_size': 617, 'max_run_length': 10, 'avg_run_length': 7.910256410256411, 'points_in_convex_hull': 14, 'gabor_mean_0': 1.1997155640194588, 'gabor_std_0': 16.834765252836824, 'gabor_mean_1': 1.40634670670744, 'gabor_std_1': 18.080626860050852, 'gabor_mean_2': 1.8199111290155219, 'gabor_std_2': 20.51912445597645, 'gabor_mean_3': 1.3566192403239885, 'gabor_std_3': 17.748128466597645}\n",
      "Patch 8 state features: {'height': 11, 'width': 3, 'aspect_ratio': 0.2727272727272727, 'density': 5.4933987658164106e-05, 'horizontal_transitions': 11.04313725490196, 'vertical_transitions': 3.011764705882353, 'variation_of_height': 0.3462444458504467, 'width_variation': 0.19071390962902557, 'num_components': 1, 'max_component_size': 18, 'max_run_length': 3, 'avg_run_length': 1.6363636363636365, 'points_in_convex_hull': 5, 'gabor_mean_0': 0.2112517014276733, 'gabor_std_0': 6.478090581482231, 'gabor_mean_1': 0.2037440564477242, 'gabor_std_1': 6.406245857133589, 'gabor_mean_2': 0.16529026508700934, 'gabor_std_2': 5.687870975815027, 'gabor_mean_3': 0.2127227115416308, 'gabor_std_3': 6.511288827549648}\n",
      "Patch 9 state features: {'height': 12, 'width': 16, 'aspect_ratio': 1.3333333333333333, 'density': 0.0003448633669651413, 'horizontal_transitions': 13.050980392156863, 'vertical_transitions': 16.062745098039215, 'variation_of_height': 2.0151995033720955, 'width_variation': 0.19883816002047328, 'num_components': 1, 'max_component_size': 113, 'max_run_length': 14, 'avg_run_length': 8.692307692307692, 'points_in_convex_hull': 9, 'gabor_mean_0': 0.4322511337764675, 'gabor_std_0': 9.823446251976007, 'gabor_mean_1': 0.5144049123192519, 'gabor_std_1': 10.588809030088392, 'gabor_mean_2': 0.3866742353494107, 'gabor_std_2': 9.242680531939525, 'gabor_mean_3': 0.40160102055141517, 'gabor_std_3': 9.443241599813561}\n",
      "Patch 10 state features: {'height': 13, 'width': 15, 'aspect_ratio': 1.1538461538461537, 'density': 0.00023499539164881312, 'horizontal_transitions': 13.050980392156863, 'vertical_transitions': 15.058823529411764, 'variation_of_height': 1.3554338009813809, 'width_variation': 0.20658609436686098, 'num_components': 1, 'max_component_size': 77, 'max_run_length': 10, 'avg_run_length': 5.923076923076923, 'points_in_convex_hull': 11, 'gabor_mean_0': 0.3437128051125231, 'gabor_std_0': 8.615861875280833, 'gabor_mean_1': 0.44795615047029597, 'gabor_std_1': 9.787428177608453, 'gabor_mean_2': 0.3487209536540257, 'gabor_std_2': 8.717798543289547, 'gabor_mean_3': 0.3666446930716034, 'gabor_std_3': 8.991518775064922}\n",
      "Patch 0 transition features: {'relative_location': 'right', 'convex_hull_distance': 0.0, 'ratio_of_aspect_ratios': 0.7125431778929189, 'ratio_of_number_of_components': 1.0}\n",
      "Patch 1 transition features: {'relative_location': 'left', 'convex_hull_distance': 0.0, 'ratio_of_aspect_ratios': 1.5099737219302436, 'ratio_of_number_of_components': 1.0}\n",
      "Patch 2 transition features: {'relative_location': 'left', 'convex_hull_distance': 0.0, 'ratio_of_aspect_ratios': 0.5540117524301169, 'ratio_of_number_of_components': 1.0}\n",
      "Patch 3 transition features: {'relative_location': 'left', 'convex_hull_distance': 0.0, 'ratio_of_aspect_ratios': 1.7769072164948454, 'ratio_of_number_of_components': 1.0}\n",
      "Patch 4 transition features: {'relative_location': 'left', 'convex_hull_distance': 0.0, 'ratio_of_aspect_ratios': 0.7343299239444007, 'ratio_of_number_of_components': 1.0}\n",
      "Patch 5 transition features: {'relative_location': 'left', 'convex_hull_distance': 0.0, 'ratio_of_aspect_ratios': 1.2551020408163267, 'ratio_of_number_of_components': 1.0}\n",
      "Patch 6 transition features: {'relative_location': 'left', 'convex_hull_distance': 0.0, 'ratio_of_aspect_ratios': 5.6875, 'ratio_of_number_of_components': 1.0}\n",
      "Patch 7 transition features: {'relative_location': 'right', 'convex_hull_distance': 0.0, 'ratio_of_aspect_ratios': 0.5641025641025642, 'ratio_of_number_of_components': 1.0}\n",
      "Patch 8 transition features: {'relative_location': 'right', 'convex_hull_distance': 0.0, 'ratio_of_aspect_ratios': 0.20454545454545453, 'ratio_of_number_of_components': 1.0}\n",
      "Patch 9 transition features: {'relative_location': 'left', 'convex_hull_distance': 0.0, 'ratio_of_aspect_ratios': 1.1555555555555557, 'ratio_of_number_of_components': 1.0}\n"
     ]
    }
   ],
   "source": [
    "# Print extracted features\n",
    "for i, features in enumerate(state_features):\n",
    "    print(f'Patch {i} state features: {features}')\n",
    "for i, features in enumerate(transition_features):\n",
    "    print(f'Patch {i} transition features: {features}')\n"
   ]
  },
  {
   "cell_type": "code",
   "execution_count": 27,
   "metadata": {},
   "outputs": [
    {
     "ename": "ValueError",
     "evalue": "setting an array element with a sequence. The requested array has an inhomogeneous shape after 1 dimensions. The detected shape was (2,) + inhomogeneous part.",
     "output_type": "error",
     "traceback": [
      "\u001b[0;31m---------------------------------------------------------------------------\u001b[0m",
      "\u001b[0;31mValueError\u001b[0m                                Traceback (most recent call last)",
      "Cell \u001b[0;32mIn[27], line 55\u001b[0m\n\u001b[1;32m     53\u001b[0m \u001b[38;5;28;01mfor\u001b[39;00m i, patch \u001b[38;5;129;01min\u001b[39;00m \u001b[38;5;28menumerate\u001b[39m(patches):\n\u001b[1;32m     54\u001b[0m     features \u001b[38;5;241m=\u001b[39m state_features\n\u001b[0;32m---> 55\u001b[0m     visualize_state_features(patch, features)\n\u001b[1;32m     57\u001b[0m \u001b[38;5;28;01mfor\u001b[39;00m i \u001b[38;5;129;01min\u001b[39;00m \u001b[38;5;28mrange\u001b[39m(\u001b[38;5;28mlen\u001b[39m(patches) \u001b[38;5;241m-\u001b[39m \u001b[38;5;241m1\u001b[39m):\n\u001b[1;32m     58\u001b[0m     features \u001b[38;5;241m=\u001b[39m transition_features\n",
      "Cell \u001b[0;32mIn[27], line 14\u001b[0m, in \u001b[0;36mvisualize_state_features\u001b[0;34m(patch, features)\u001b[0m\n\u001b[1;32m     12\u001b[0m \u001b[38;5;66;03m# Original Patch\u001b[39;00m\n\u001b[1;32m     13\u001b[0m plt\u001b[38;5;241m.\u001b[39msubplot(\u001b[38;5;241m1\u001b[39m, \u001b[38;5;241m3\u001b[39m, \u001b[38;5;241m1\u001b[39m)\n\u001b[0;32m---> 14\u001b[0m plt\u001b[38;5;241m.\u001b[39mimshow(patch, cmap\u001b[38;5;241m=\u001b[39m\u001b[38;5;124m'\u001b[39m\u001b[38;5;124mgray\u001b[39m\u001b[38;5;124m'\u001b[39m)\n\u001b[1;32m     15\u001b[0m plt\u001b[38;5;241m.\u001b[39mtitle(\u001b[38;5;124m'\u001b[39m\u001b[38;5;124mOriginal Patch\u001b[39m\u001b[38;5;124m'\u001b[39m)\n\u001b[1;32m     17\u001b[0m \u001b[38;5;66;03m# Density Visualization\u001b[39;00m\n",
      "File \u001b[0;32m~/anaconda3/lib/python3.11/site-packages/matplotlib/pyplot.py:3346\u001b[0m, in \u001b[0;36mimshow\u001b[0;34m(X, cmap, norm, aspect, interpolation, alpha, vmin, vmax, origin, extent, interpolation_stage, filternorm, filterrad, resample, url, data, **kwargs)\u001b[0m\n\u001b[1;32m   3325\u001b[0m \u001b[38;5;129m@_copy_docstring_and_deprecators\u001b[39m(Axes\u001b[38;5;241m.\u001b[39mimshow)\n\u001b[1;32m   3326\u001b[0m \u001b[38;5;28;01mdef\u001b[39;00m \u001b[38;5;21mimshow\u001b[39m(\n\u001b[1;32m   3327\u001b[0m     X: ArrayLike \u001b[38;5;241m|\u001b[39m PIL\u001b[38;5;241m.\u001b[39mImage\u001b[38;5;241m.\u001b[39mImage,\n\u001b[0;32m   (...)\u001b[0m\n\u001b[1;32m   3344\u001b[0m     \u001b[38;5;241m*\u001b[39m\u001b[38;5;241m*\u001b[39mkwargs,\n\u001b[1;32m   3345\u001b[0m ) \u001b[38;5;241m-\u001b[39m\u001b[38;5;241m>\u001b[39m AxesImage:\n\u001b[0;32m-> 3346\u001b[0m     __ret \u001b[38;5;241m=\u001b[39m gca()\u001b[38;5;241m.\u001b[39mimshow(\n\u001b[1;32m   3347\u001b[0m         X,\n\u001b[1;32m   3348\u001b[0m         cmap\u001b[38;5;241m=\u001b[39mcmap,\n\u001b[1;32m   3349\u001b[0m         norm\u001b[38;5;241m=\u001b[39mnorm,\n\u001b[1;32m   3350\u001b[0m         aspect\u001b[38;5;241m=\u001b[39maspect,\n\u001b[1;32m   3351\u001b[0m         interpolation\u001b[38;5;241m=\u001b[39minterpolation,\n\u001b[1;32m   3352\u001b[0m         alpha\u001b[38;5;241m=\u001b[39malpha,\n\u001b[1;32m   3353\u001b[0m         vmin\u001b[38;5;241m=\u001b[39mvmin,\n\u001b[1;32m   3354\u001b[0m         vmax\u001b[38;5;241m=\u001b[39mvmax,\n\u001b[1;32m   3355\u001b[0m         origin\u001b[38;5;241m=\u001b[39morigin,\n\u001b[1;32m   3356\u001b[0m         extent\u001b[38;5;241m=\u001b[39mextent,\n\u001b[1;32m   3357\u001b[0m         interpolation_stage\u001b[38;5;241m=\u001b[39minterpolation_stage,\n\u001b[1;32m   3358\u001b[0m         filternorm\u001b[38;5;241m=\u001b[39mfilternorm,\n\u001b[1;32m   3359\u001b[0m         filterrad\u001b[38;5;241m=\u001b[39mfilterrad,\n\u001b[1;32m   3360\u001b[0m         resample\u001b[38;5;241m=\u001b[39mresample,\n\u001b[1;32m   3361\u001b[0m         url\u001b[38;5;241m=\u001b[39murl,\n\u001b[1;32m   3362\u001b[0m         \u001b[38;5;241m*\u001b[39m\u001b[38;5;241m*\u001b[39m({\u001b[38;5;124m\"\u001b[39m\u001b[38;5;124mdata\u001b[39m\u001b[38;5;124m\"\u001b[39m: data} \u001b[38;5;28;01mif\u001b[39;00m data \u001b[38;5;129;01mis\u001b[39;00m \u001b[38;5;129;01mnot\u001b[39;00m \u001b[38;5;28;01mNone\u001b[39;00m \u001b[38;5;28;01melse\u001b[39;00m {}),\n\u001b[1;32m   3363\u001b[0m         \u001b[38;5;241m*\u001b[39m\u001b[38;5;241m*\u001b[39mkwargs,\n\u001b[1;32m   3364\u001b[0m     )\n\u001b[1;32m   3365\u001b[0m     sci(__ret)\n\u001b[1;32m   3366\u001b[0m     \u001b[38;5;28;01mreturn\u001b[39;00m __ret\n",
      "File \u001b[0;32m~/anaconda3/lib/python3.11/site-packages/matplotlib/__init__.py:1465\u001b[0m, in \u001b[0;36m_preprocess_data.<locals>.inner\u001b[0;34m(ax, data, *args, **kwargs)\u001b[0m\n\u001b[1;32m   1462\u001b[0m \u001b[38;5;129m@functools\u001b[39m\u001b[38;5;241m.\u001b[39mwraps(func)\n\u001b[1;32m   1463\u001b[0m \u001b[38;5;28;01mdef\u001b[39;00m \u001b[38;5;21minner\u001b[39m(ax, \u001b[38;5;241m*\u001b[39margs, data\u001b[38;5;241m=\u001b[39m\u001b[38;5;28;01mNone\u001b[39;00m, \u001b[38;5;241m*\u001b[39m\u001b[38;5;241m*\u001b[39mkwargs):\n\u001b[1;32m   1464\u001b[0m     \u001b[38;5;28;01mif\u001b[39;00m data \u001b[38;5;129;01mis\u001b[39;00m \u001b[38;5;28;01mNone\u001b[39;00m:\n\u001b[0;32m-> 1465\u001b[0m         \u001b[38;5;28;01mreturn\u001b[39;00m func(ax, \u001b[38;5;241m*\u001b[39m\u001b[38;5;28mmap\u001b[39m(sanitize_sequence, args), \u001b[38;5;241m*\u001b[39m\u001b[38;5;241m*\u001b[39mkwargs)\n\u001b[1;32m   1467\u001b[0m     bound \u001b[38;5;241m=\u001b[39m new_sig\u001b[38;5;241m.\u001b[39mbind(ax, \u001b[38;5;241m*\u001b[39margs, \u001b[38;5;241m*\u001b[39m\u001b[38;5;241m*\u001b[39mkwargs)\n\u001b[1;32m   1468\u001b[0m     auto_label \u001b[38;5;241m=\u001b[39m (bound\u001b[38;5;241m.\u001b[39marguments\u001b[38;5;241m.\u001b[39mget(label_namer)\n\u001b[1;32m   1469\u001b[0m                   \u001b[38;5;129;01mor\u001b[39;00m bound\u001b[38;5;241m.\u001b[39mkwargs\u001b[38;5;241m.\u001b[39mget(label_namer))\n",
      "File \u001b[0;32m~/anaconda3/lib/python3.11/site-packages/matplotlib/axes/_axes.py:5751\u001b[0m, in \u001b[0;36mAxes.imshow\u001b[0;34m(self, X, cmap, norm, aspect, interpolation, alpha, vmin, vmax, origin, extent, interpolation_stage, filternorm, filterrad, resample, url, **kwargs)\u001b[0m\n\u001b[1;32m   5748\u001b[0m \u001b[38;5;28;01mif\u001b[39;00m aspect \u001b[38;5;129;01mis\u001b[39;00m \u001b[38;5;129;01mnot\u001b[39;00m \u001b[38;5;28;01mNone\u001b[39;00m:\n\u001b[1;32m   5749\u001b[0m     \u001b[38;5;28mself\u001b[39m\u001b[38;5;241m.\u001b[39mset_aspect(aspect)\n\u001b[0;32m-> 5751\u001b[0m im\u001b[38;5;241m.\u001b[39mset_data(X)\n\u001b[1;32m   5752\u001b[0m im\u001b[38;5;241m.\u001b[39mset_alpha(alpha)\n\u001b[1;32m   5753\u001b[0m \u001b[38;5;28;01mif\u001b[39;00m im\u001b[38;5;241m.\u001b[39mget_clip_path() \u001b[38;5;129;01mis\u001b[39;00m \u001b[38;5;28;01mNone\u001b[39;00m:\n\u001b[1;32m   5754\u001b[0m     \u001b[38;5;66;03m# image does not already have clipping set, clip to axes patch\u001b[39;00m\n",
      "File \u001b[0;32m~/anaconda3/lib/python3.11/site-packages/matplotlib/image.py:723\u001b[0m, in \u001b[0;36m_ImageBase.set_data\u001b[0;34m(self, A)\u001b[0m\n\u001b[1;32m    721\u001b[0m \u001b[38;5;28;01mif\u001b[39;00m \u001b[38;5;28misinstance\u001b[39m(A, PIL\u001b[38;5;241m.\u001b[39mImage\u001b[38;5;241m.\u001b[39mImage):\n\u001b[1;32m    722\u001b[0m     A \u001b[38;5;241m=\u001b[39m pil_to_array(A)  \u001b[38;5;66;03m# Needed e.g. to apply png palette.\u001b[39;00m\n\u001b[0;32m--> 723\u001b[0m \u001b[38;5;28mself\u001b[39m\u001b[38;5;241m.\u001b[39m_A \u001b[38;5;241m=\u001b[39m \u001b[38;5;28mself\u001b[39m\u001b[38;5;241m.\u001b[39m_normalize_image_array(A)\n\u001b[1;32m    724\u001b[0m \u001b[38;5;28mself\u001b[39m\u001b[38;5;241m.\u001b[39m_imcache \u001b[38;5;241m=\u001b[39m \u001b[38;5;28;01mNone\u001b[39;00m\n\u001b[1;32m    725\u001b[0m \u001b[38;5;28mself\u001b[39m\u001b[38;5;241m.\u001b[39mstale \u001b[38;5;241m=\u001b[39m \u001b[38;5;28;01mTrue\u001b[39;00m\n",
      "File \u001b[0;32m~/anaconda3/lib/python3.11/site-packages/matplotlib/image.py:686\u001b[0m, in \u001b[0;36m_ImageBase._normalize_image_array\u001b[0;34m(A)\u001b[0m\n\u001b[1;32m    680\u001b[0m \u001b[38;5;129m@staticmethod\u001b[39m\n\u001b[1;32m    681\u001b[0m \u001b[38;5;28;01mdef\u001b[39;00m \u001b[38;5;21m_normalize_image_array\u001b[39m(A):\n\u001b[1;32m    682\u001b[0m \u001b[38;5;250m    \u001b[39m\u001b[38;5;124;03m\"\"\"\u001b[39;00m\n\u001b[1;32m    683\u001b[0m \u001b[38;5;124;03m    Check validity of image-like input *A* and normalize it to a format suitable for\u001b[39;00m\n\u001b[1;32m    684\u001b[0m \u001b[38;5;124;03m    Image subclasses.\u001b[39;00m\n\u001b[1;32m    685\u001b[0m \u001b[38;5;124;03m    \"\"\"\u001b[39;00m\n\u001b[0;32m--> 686\u001b[0m     A \u001b[38;5;241m=\u001b[39m cbook\u001b[38;5;241m.\u001b[39msafe_masked_invalid(A, copy\u001b[38;5;241m=\u001b[39m\u001b[38;5;28;01mTrue\u001b[39;00m)\n\u001b[1;32m    687\u001b[0m     \u001b[38;5;28;01mif\u001b[39;00m A\u001b[38;5;241m.\u001b[39mdtype \u001b[38;5;241m!=\u001b[39m np\u001b[38;5;241m.\u001b[39muint8 \u001b[38;5;129;01mand\u001b[39;00m \u001b[38;5;129;01mnot\u001b[39;00m np\u001b[38;5;241m.\u001b[39mcan_cast(A\u001b[38;5;241m.\u001b[39mdtype, \u001b[38;5;28mfloat\u001b[39m, \u001b[38;5;124m\"\u001b[39m\u001b[38;5;124msame_kind\u001b[39m\u001b[38;5;124m\"\u001b[39m):\n\u001b[1;32m    688\u001b[0m         \u001b[38;5;28;01mraise\u001b[39;00m \u001b[38;5;167;01mTypeError\u001b[39;00m(\u001b[38;5;124mf\u001b[39m\u001b[38;5;124m\"\u001b[39m\u001b[38;5;124mImage data of dtype \u001b[39m\u001b[38;5;132;01m{\u001b[39;00mA\u001b[38;5;241m.\u001b[39mdtype\u001b[38;5;132;01m}\u001b[39;00m\u001b[38;5;124m cannot be \u001b[39m\u001b[38;5;124m\"\u001b[39m\n\u001b[1;32m    689\u001b[0m                         \u001b[38;5;124mf\u001b[39m\u001b[38;5;124m\"\u001b[39m\u001b[38;5;124mconverted to float\u001b[39m\u001b[38;5;124m\"\u001b[39m)\n",
      "File \u001b[0;32m~/anaconda3/lib/python3.11/site-packages/matplotlib/cbook.py:733\u001b[0m, in \u001b[0;36msafe_masked_invalid\u001b[0;34m(x, copy)\u001b[0m\n\u001b[1;32m    732\u001b[0m \u001b[38;5;28;01mdef\u001b[39;00m \u001b[38;5;21msafe_masked_invalid\u001b[39m(x, copy\u001b[38;5;241m=\u001b[39m\u001b[38;5;28;01mFalse\u001b[39;00m):\n\u001b[0;32m--> 733\u001b[0m     x \u001b[38;5;241m=\u001b[39m np\u001b[38;5;241m.\u001b[39marray(x, subok\u001b[38;5;241m=\u001b[39m\u001b[38;5;28;01mTrue\u001b[39;00m, copy\u001b[38;5;241m=\u001b[39mcopy)\n\u001b[1;32m    734\u001b[0m     \u001b[38;5;28;01mif\u001b[39;00m \u001b[38;5;129;01mnot\u001b[39;00m x\u001b[38;5;241m.\u001b[39mdtype\u001b[38;5;241m.\u001b[39misnative:\n\u001b[1;32m    735\u001b[0m         \u001b[38;5;66;03m# If we have already made a copy, do the byteswap in place, else make a\u001b[39;00m\n\u001b[1;32m    736\u001b[0m         \u001b[38;5;66;03m# copy with the byte order swapped.\u001b[39;00m\n\u001b[1;32m    737\u001b[0m         \u001b[38;5;66;03m# Swap to native order.\u001b[39;00m\n\u001b[1;32m    738\u001b[0m         x \u001b[38;5;241m=\u001b[39m x\u001b[38;5;241m.\u001b[39mbyteswap(inplace\u001b[38;5;241m=\u001b[39mcopy)\u001b[38;5;241m.\u001b[39mview(x\u001b[38;5;241m.\u001b[39mdtype\u001b[38;5;241m.\u001b[39mnewbyteorder(\u001b[38;5;124m'\u001b[39m\u001b[38;5;124mN\u001b[39m\u001b[38;5;124m'\u001b[39m))\n",
      "\u001b[0;31mValueError\u001b[0m: setting an array element with a sequence. The requested array has an inhomogeneous shape after 1 dimensions. The detected shape was (2,) + inhomogeneous part."
     ]
    },
    {
     "data": {
      "image/png": "[encoded data removed]",
      "text/plain": [
       "<Figure size 1000x200 with 1 Axes>"
      ]
     },
     "metadata": {},
     "output_type": "display_data"
    }
   ],
   "source": [
    "import cv2\n",
    "import numpy as np\n",
    "import matplotlib.pyplot as plt\n",
    "import matplotlib.patches as mpatches\n",
    "\n",
    "# [Insert all helper functions here as defined in the previous code snippet]\n",
    "\n",
    "# Visualization of state features for one patch\n",
    "def visualize_state_features(patch, features):\n",
    "    plt.figure(figsize=(10, 2))\n",
    "    \n",
    "    # Original Patch\n",
    "    plt.subplot(1, 3, 1)\n",
    "    plt.imshow(patch, cmap='gray')\n",
    "    plt.title('Original Patch')\n",
    "    \n",
    "    # Density Visualization\n",
    "    plt.subplot(1, 3, 2)\n",
    "    plt.hist(patch.ravel(), bins=256, range=[0,256], color='gray', alpha=0.7)\n",
    "    plt.axvline(255 * features['density'], color='red', linestyle='dashed', linewidth=2)\n",
    "    plt.title(f'Density: {features[\"density\"]:.2f}')\n",
    "    \n",
    "    # Transitions Visualization\n",
    "    plt.subplot(1, 3, 3)\n",
    "    plt.bar(['Horizontal', 'Vertical'], [features['horizontal_transitions'], features['vertical_transitions']], color=['blue', 'green'])\n",
    "    plt.title('Transitions')\n",
    "    \n",
    "    plt.tight_layout()\n",
    "    plt.show()\n",
    "\n",
    "# Visualization of transition features between two patches\n",
    "def visualize_transition_features(patch1, patch2, transition_features):\n",
    "    plt.figure(figsize=(6, 3))\n",
    "    \n",
    "    # Patches Relative Location\n",
    "    plt.subplot(1, 2, 1)\n",
    "    plt.imshow(np.hstack((patch1, patch2)), cmap='gray')\n",
    "    plt.title(f'Patches - {transition_features[\"relative_location\"]}')\n",
    "    \n",
    "    # Convex Hull Distance Visualization\n",
    "    plt.subplot(1, 2, 2)\n",
    "    # Placeholder for convex hull distance visualization since it requires hull plotting\n",
    "    plt.title(f'Convex Hull Distance: {transition_features[\"convex_hull_distance\"]:.2f}')\n",
    "    plt.text(0.5, 0.5, f'Distance: {transition_features[\"convex_hull_distance\"]:.2f}', horizontalalignment='center', verticalalignment='center')\n",
    "    \n",
    "    plt.tight_layout()\n",
    "    plt.show()\n",
    "\n",
    "# Example usage of visualization\n",
    "# Assuming 'patches' is a list of binary patch images you've already prepared\n",
    "# and that state_features and transition_features are calculated as in the previous example\n",
    "\n",
    "for i, patch in enumerate(patches):\n",
    "    features = state_features\n",
    "    visualize_state_features(patch, features)\n",
    "\n",
    "for i in range(len(patches) - 1):\n",
    "    features = transition_features\n",
    "    visualize_transition_features(patches[i], patches[i+1], features)\n"
   ]
  }
 ],
 "metadata": {
  "kernelspec": {
   "display_name": "base",
   "language": "python",
   "name": "python3"
  },
  "language_info": {
   "codemirror_mode": {
    "name": "ipython",
    "version": 3
   },
   "file_extension": ".py",
   "mimetype": "text/x-python",
   "name": "python",
   "nbconvert_exporter": "python",
   "pygments_lexer": "ipython3",
   "version": "3.11.7"
  }
 },
 "nbformat": 4,
 "nbformat_minor": 2
}
