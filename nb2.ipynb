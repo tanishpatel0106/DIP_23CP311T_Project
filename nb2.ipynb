{
 "cells": [
  {
   "cell_type": "markdown",
   "metadata": {},
   "source": [
    "Importing Required Dependencies"
   ]
  },
  {
   "cell_type": "code",
   "execution_count": 1,
   "metadata": {},
   "outputs": [],
   "source": [
    "import cv2\n",
    "import numpy as np\n",
    "import matplotlib.pyplot as plt\n",
    "import matplotlib.patches as mpatches"
   ]
  },
  {
   "cell_type": "markdown",
   "metadata": {},
   "source": [
    "Density Calculation Functions"
   ]
  },
  {
   "cell_type": "code",
   "execution_count": 3,
   "metadata": {},
   "outputs": [],
   "source": [
    "def calculate_density(patch):\n",
    "    return np.sum(patch) / (patch.size * 255)"
   ]
  },
  {
   "cell_type": "markdown",
   "metadata": {},
   "source": [
    "Horiontal and Vertical Transitions"
   ]
  },
  {
   "cell_type": "code",
   "execution_count": 4,
   "metadata": {},
   "outputs": [],
   "source": [
    "def calculate_transitions(patch):\n",
    "    horizontal_transitions = np.sum(np.abs(np.diff(patch, axis=1))) / 255\n",
    "    vertical_transitions = np.sum(np.abs(np.diff(patch, axis=0))) / 255\n",
    "    return horizontal_transitions, vertical_transitions"
   ]
  },
  {
   "cell_type": "markdown",
   "metadata": {},
   "source": [
    "Height and Weight Variations"
   ]
  },
  {
   "cell_type": "code",
   "execution_count": 5,
   "metadata": {},
   "outputs": [],
   "source": [
    "def compute_variation(contours):\n",
    "    heights = [cv2.boundingRect(contour)[3] for contour in contours]\n",
    "    widths = [cv2.boundingRect(contour)[2] for contour in contours]\n",
    "    return np.std(heights), np.std(widths) if heights and widths else (0, 0)"
   ]
  },
  {
   "cell_type": "markdown",
   "metadata": {},
   "source": [
    "Component Generation"
   ]
  },
  {
   "cell_type": "code",
   "execution_count": 6,
   "metadata": {},
   "outputs": [],
   "source": [
    "def compute_components(patch):\n",
    "    num_labels, labels, stats, _ = cv2.connectedComponentsWithStats(patch)\n",
    "    sizes = stats[1:, cv2.CC_STAT_AREA]\n",
    "    return num_labels - 1, np.max(sizes) if sizes.size > 0 else 0"
   ]
  },
  {
   "cell_type": "markdown",
   "metadata": {},
   "source": [
    "Computing Run Lengths"
   ]
  },
  {
   "cell_type": "code",
   "execution_count": 7,
   "metadata": {},
   "outputs": [],
   "source": [
    "def compute_run_lengths(patch):\n",
    "    max_run_length = 0\n",
    "    total_run_length = 0\n",
    "    run_count = 0\n",
    "    for row in patch:\n",
    "        current_run_length = 0\n",
    "        for pixel in row:\n",
    "            if pixel == 255:\n",
    "                current_run_length += 1\n",
    "            else:\n",
    "                if current_run_length > 0:\n",
    "                    max_run_length = max(max_run_length, current_run_length)\n",
    "                    total_run_length += current_run_length\n",
    "                    run_count += 1\n",
    "                    current_run_length = 0\n",
    "        if current_run_length > 0:\n",
    "            max_run_length = max(max_run_length, current_run_length)\n",
    "            total_run_length += current_run_length\n",
    "            run_count += 1\n",
    "    avg_run_length = total_run_length / run_count if run_count > 0 else 0\n",
    "    return max_run_length, avg_run_length"
   ]
  },
  {
   "cell_type": "markdown",
   "metadata": {},
   "source": [
    "Convex Hull Computation"
   ]
  },
  {
   "cell_type": "code",
   "execution_count": 8,
   "metadata": {},
   "outputs": [],
   "source": [
    "def compute_convex_hull(patch):\n",
    "    contours, _ = cv2.findContours(patch, cv2.RETR_EXTERNAL, cv2.CHAIN_APPROX_SIMPLE)\n",
    "    if contours:\n",
    "        all_points = np.vstack(contours)\n",
    "        hull = cv2.convexHull(all_points)\n",
    "        return len(hull)\n",
    "    else:\n",
    "        return 0"
   ]
  },
  {
   "cell_type": "markdown",
   "metadata": {},
   "source": [
    "Gabor Filter"
   ]
  },
  {
   "cell_type": "code",
   "execution_count": 9,
   "metadata": {},
   "outputs": [],
   "source": [
    "def apply_gabor_filter(patch, kernel_size=31, sigma=4.0, lambd=10.0, gamma=0.5, psi=0, theta=0):\n",
    "    kernel = cv2.getGaborKernel((kernel_size, kernel_size), sigma, theta, lambd, gamma, psi, ktype=cv2.CV_32F)\n",
    "    filtered_patch = cv2.filter2D(patch, cv2.CV_8UC3, kernel)\n",
    "    return filtered_patch\n",
    "\n",
    "def extract_gabor_features(patch):\n",
    "    gabor_features = {}\n",
    "    thetas = [0, np.pi/4, np.pi/2, 3*np.pi/4]  # Four orientations: 0, 45, 90, 135 degrees\n",
    "    for i, theta in enumerate(thetas):\n",
    "        filtered_patch = apply_gabor_filter(patch, theta=theta)\n",
    "        gabor_features[f'gabor_mean_{i}'] = np.mean(filtered_patch)\n",
    "        gabor_features[f'gabor_std_{i}'] = np.std(filtered_patch)\n",
    "    return gabor_features"
   ]
  },
  {
   "cell_type": "markdown",
   "metadata": {},
   "source": [
    "Cumulative Function for extracting State Features"
   ]
  },
  {
   "cell_type": "code",
   "execution_count": 10,
   "metadata": {},
   "outputs": [],
   "source": [
    "def extract_state_features(patches):\n",
    "    state_features_list = []\n",
    "    for stat, patch in patches:\n",
    "        features = {}\n",
    "        # State features\n",
    "        features['height'] = stat[cv2.CC_STAT_HEIGHT]\n",
    "        features['width'] = stat[cv2.CC_STAT_WIDTH]\n",
    "        features['aspect_ratio'] = features['width'] / features['height']\n",
    "        features['density'] = calculate_density(patch)\n",
    "        horizontal_transitions, vertical_transitions = calculate_transitions(patch)\n",
    "        features['horizontal_transitions'] = horizontal_transitions\n",
    "        features['vertical_transitions'] = vertical_transitions\n",
    "        variation_of_height, width_variation = compute_variation(patch)\n",
    "        features['variation_of_height'] = variation_of_height\n",
    "        features['width_variation'] = width_variation\n",
    "        num_components, max_component_size = compute_components(patch)\n",
    "        features['num_components'] = num_components\n",
    "        features['max_component_size'] = max_component_size\n",
    "        max_run_length, avg_run_length = compute_run_lengths(patch)\n",
    "        features['max_run_length'] = max_run_length\n",
    "        features['avg_run_length'] = avg_run_length\n",
    "        features['points_in_convex_hull'] = compute_convex_hull(patch)\n",
    "        gabor_features = extract_gabor_features(patch)\n",
    "        features.update(gabor_features)        \n",
    "        # Append to the state features list\n",
    "        state_features_list.append(features)\n",
    "    return state_features_list"
   ]
  },
  {
   "cell_type": "markdown",
   "metadata": {},
   "source": [
    "Distance Between two Convex Hulls"
   ]
  },
  {
   "cell_type": "code",
   "execution_count": 11,
   "metadata": {},
   "outputs": [],
   "source": [
    "def calculate_distance_between_hulls(hull1, hull2):\n",
    "    min_dist = float('inf')\n",
    "    for point1 in hull1:\n",
    "        for point2 in hull2:\n",
    "            dist = np.linalg.norm(point1 - point2)\n",
    "            if dist < min_dist:\n",
    "                min_dist = dist\n",
    "    return min_dist"
   ]
  },
  {
   "cell_type": "markdown",
   "metadata": {},
   "source": [
    "Relative Location calculation"
   ]
  },
  {
   "cell_type": "code",
   "execution_count": 12,
   "metadata": {},
   "outputs": [],
   "source": [
    "def determine_relative_location(patch1_stat, patch2_stat):\n",
    "    centroid1_x = patch1_stat[cv2.CC_STAT_LEFT] + patch1_stat[cv2.CC_STAT_WIDTH] / 2\n",
    "    centroid2_x = patch2_stat[cv2.CC_STAT_LEFT] + patch2_stat[cv2.CC_STAT_WIDTH] / 2\n",
    "    centroid1_y = patch1_stat[cv2.CC_STAT_TOP] + patch1_stat[cv2.CC_STAT_HEIGHT] / 2\n",
    "    centroid2_y = patch2_stat[cv2.CC_STAT_TOP] + patch2_stat[cv2.CC_STAT_HEIGHT] / 2\n",
    "    if centroid1_x < centroid2_x:\n",
    "        return 'left'\n",
    "    elif centroid1_x > centroid2_x:\n",
    "        return 'right'\n",
    "    elif centroid1_y < centroid2_y:\n",
    "        return 'top'\n",
    "    else:\n",
    "        return 'bottom'"
   ]
  },
  {
   "cell_type": "markdown",
   "metadata": {},
   "source": [
    "Cumulative Function for extracting Transition Features"
   ]
  },
  {
   "cell_type": "code",
   "execution_count": 13,
   "metadata": {},
   "outputs": [],
   "source": [
    "def extract_transition_features(patches, state_features):\n",
    "    transition_features_list = []\n",
    "    for i in range(len(patches) - 1):\n",
    "        patch1_stat, patch1 = patches[i]\n",
    "        patch2_stat, patch2 = patches[i + 1]\n",
    "        features = {}\n",
    "        features['relative_location'] = determine_relative_location(patch1_stat, patch2_stat)\n",
    "        features['convex_hull_distance'] = calculate_distance_between_hulls(patch1, patch2)\n",
    "        features['ratio_of_aspect_ratios'] = (state_features[i]['aspect_ratio'] /\n",
    "                                              state_features[i + 1]['aspect_ratio'])\n",
    "        features['ratio_of_number_of_components'] = (state_features[i]['num_components'] /\n",
    "                                                     state_features[i + 1]['num_components'])\n",
    "        transition_features_list.append(features)\n",
    "    return transition_features_list"
   ]
  },
  {
   "cell_type": "markdown",
   "metadata": {},
   "source": [
    "Preprocessing Functions"
   ]
  },
  {
   "cell_type": "code",
   "execution_count": 16,
   "metadata": {},
   "outputs": [],
   "source": [
    "def convert_to_binary(image_path, threshold=127):\n",
    "    image = cv2.imread(image_path)\n",
    "    gray = cv2.cvtColor(image, cv2.COLOR_BGR2GRAY)\n",
    "    blurred = cv2.GaussianBlur(gray, (5, 5), 0)\n",
    "    _, binary = cv2.threshold(blurred, threshold, 255, cv2.THRESH_BINARY_INV)\n",
    "    return binary\n",
    "\n",
    "def find_patches(binary_image):\n",
    "    num_labels, labels, stats, centroids = cv2.connectedComponentsWithStats(binary_image)\n",
    "    min_area = 10  # This is a parameter you might need to tune\n",
    "    patches = [(stats[i], (labels == i).astype(np.uint8) * 255) for i in range(1, num_labels) if stats[i, cv2.CC_STAT_AREA] > min_area]\n",
    "    return patches"
   ]
  },
  {
   "cell_type": "code",
   "execution_count": 17,
   "metadata": {},
   "outputs": [],
   "source": [
    "image_path = '/home/tanishpatel01/Downloads/Images_dataset/Gujarati/13.jpg'\n",
    "binary_image = convert_to_binary(image_path)\n",
    "\n",
    "# Find patches\n",
    "patches = find_patches(binary_image)"
   ]
  },
  {
   "cell_type": "markdown",
   "metadata": {},
   "source": [
    "Patch Processing"
   ]
  },
  {
   "cell_type": "code",
   "execution_count": 20,
   "metadata": {},
   "outputs": [],
   "source": [
    "def process_patches(patches):\n",
    "    state_features = extract_state_features(patches)\n",
    "    transition_features = extract_transition_features(patches, state_features)\n",
    "    return state_features, transition_features"
   ]
  },
  {
   "cell_type": "code",
   "execution_count": 22,
   "metadata": {},
   "outputs": [],
   "source": [
    "state_features, transition_features = process_patches(patches)"
   ]
  },
  {
   "cell_type": "markdown",
   "metadata": {},
   "source": [
    "Displaying Processed Features"
   ]
  },
  {
   "cell_type": "code",
   "execution_count": 23,
   "metadata": {},
   "outputs": [
    {
     "name": "stdout",
     "output_type": "stream",
     "text": [
      "Patch 0 state features: {'height': 48, 'width': 41, 'aspect_ratio': 0.8541666666666666, 'density': 0.0026246238547789516, 'horizontal_transitions': 86.33725490196079, 'vertical_transitions': 65.25490196078431, 'variation_of_height': 9.957293581534959, 'width_variation': 0.3711340206185567, 'num_components': 1, 'max_component_size': 860, 'max_run_length': 29, 'avg_run_length': 10.0, 'points_in_convex_hull': 23, 'gabor_mean_0': 1.4139123375632503, 'gabor_std_0': 18.231519529883613, 'gabor_mean_1': 1.5805301740186652, 'gabor_std_1': 19.2755791857702, 'gabor_mean_2': 1.6389341585639035, 'gabor_std_2': 19.777436234410406, 'gabor_mean_3': 1.8836101395933664, 'gabor_std_3': 20.981469350781776}\n",
      "Patch 1 state features: {'height': 161, 'width': 193, 'aspect_ratio': 1.1987577639751552, 'density': 0.020588037818998615, 'horizontal_transitions': 605.364705882353, 'vertical_transitions': 578.2588235294118, 'variation_of_height': 82.76455556783534, 'width_variation': 0.4971547866352373, 'num_components': 1, 'max_component_size': 6746, 'max_run_length': 87, 'avg_run_length': 11.187396351575456, 'points_in_convex_hull': 44, 'gabor_mean_0': 12.828892835997632, 'gabor_std_0': 53.835872393581276, 'gabor_mean_1': 13.942929690599573, 'gabor_std_1': 55.71643033572692, 'gabor_mean_2': 13.241187672813169, 'gabor_std_2': 54.676471974331974, 'gabor_mean_3': 13.907790249827569, 'gabor_std_3': 55.46012976422532}\n",
      "Patch 2 state features: {'height': 131, 'width': 104, 'aspect_ratio': 0.7938931297709924, 'density': 0.009402867554155757, 'horizontal_transitions': 285.1137254901961, 'vertical_transitions': 190.7450980392157, 'variation_of_height': 36.63722686641442, 'width_variation': 0.49751095727433287, 'num_components': 1, 'max_component_size': 3081, 'max_run_length': 53, 'avg_run_length': 10.848591549295774, 'points_in_convex_hull': 19, 'gabor_mean_0': 5.153455042634878, 'gabor_std_0': 34.756621301254626, 'gabor_mean_1': 6.289196926138202, 'gabor_std_1': 37.96186968062781, 'gabor_mean_2': 6.263295550957377, 'gabor_std_2': 38.247465475587184, 'gabor_mean_3': 5.98811899922482, 'gabor_std_3': 37.22388571643539}\n",
      "Patch 3 state features: {'height': 97, 'width': 139, 'aspect_ratio': 1.4329896907216495, 'density': 0.010306226462312232, 'horizontal_transitions': 230.90196078431373, 'vertical_transitions': 258.0078431372549, 'variation_of_height': 40.735828001297726, 'width_variation': 0.47140452079103173, 'num_components': 1, 'max_component_size': 3377, 'max_run_length': 63, 'avg_run_length': 14.682608695652174, 'points_in_convex_hull': 23, 'gabor_mean_0': 5.931320307874482, 'gabor_std_0': 37.12764118277175, 'gabor_mean_1': 5.962419048665409, 'gabor_std_1': 37.22425008620387, 'gabor_mean_2': 5.703420556298182, 'gabor_std_2': 36.5903910754738, 'gabor_mean_3': 6.237464369205227, 'gabor_std_3': 38.10867806408192}\n",
      "Patch 4 state features: {'height': 124, 'width': 100, 'aspect_ratio': 0.8064516129032258, 'density': 0.007535111973778177, 'horizontal_transitions': 204.8, 'vertical_transitions': 166.65098039215687, 'variation_of_height': 34.616116254435155, 'width_variation': 0.49451115098143905, 'num_components': 1, 'max_component_size': 2469, 'max_run_length': 89, 'avg_run_length': 12.102941176470589, 'points_in_convex_hull': 20, 'gabor_mean_0': 4.645733765480703, 'gabor_std_0': 32.86973269852959, 'gabor_mean_1': 5.238938431207388, 'gabor_std_1': 34.74446676751971, 'gabor_mean_2': 4.791525516837267, 'gabor_std_2': 33.314599139387894, 'gabor_mean_3': 4.642758174482553, 'gabor_std_3': 32.791120001983074}\n",
      "Patch 5 state features: {'height': 112, 'width': 123, 'aspect_ratio': 1.0982142857142858, 'density': 0.009540202523301166, 'horizontal_transitions': 280.09411764705885, 'vertical_transitions': 268.0470588235294, 'variation_of_height': 39.880616237039455, 'width_variation': 0.4865668734138243, 'num_components': 1, 'max_component_size': 3126, 'max_run_length': 103, 'avg_run_length': 11.204301075268818, 'points_in_convex_hull': 21, 'gabor_mean_0': 5.807944675370652, 'gabor_std_0': 36.843665444747856, 'gabor_mean_1': 6.13063912642752, 'gabor_std_1': 37.67185670107656, 'gabor_mean_2': 5.74705340193978, 'gabor_std_2': 36.630754044605204, 'gabor_mean_3': 6.10561974693743, 'gabor_std_3': 37.64710781860467}\n",
      "Patch 6 state features: {'height': 8, 'width': 7, 'aspect_ratio': 0.875, 'density': 0.00010986797531632821, 'horizontal_transitions': 8.031372549019608, 'vertical_transitions': 7.027450980392157, 'variation_of_height': 0.7985089019564542, 'width_variation': 0.163510340252513, 'num_components': 1, 'max_component_size': 36, 'max_run_length': 7, 'avg_run_length': 4.5, 'points_in_convex_hull': 7, 'gabor_mean_0': 0.2436108720465352, 'gabor_std_0': 7.156596327069913, 'gabor_mean_1': 0.26765975108799817, 'gabor_std_1': 7.562145088155271, 'gabor_mean_2': 0.23857220462300024, 'gabor_std_2': 7.025003571548962, 'gabor_mean_3': 0.2740137823271258, 'gabor_std_3': 7.54216238317157}\n",
      "Patch 7 state features: {'height': 78, 'width': 12, 'aspect_ratio': 0.15384615384615385, 'density': 0.0018830150213937362, 'horizontal_transitions': 78.30588235294118, 'vertical_transitions': 20.07843137254902, 'variation_of_height': 3.6092618439845654, 'width_variation': 0.44293919709156365, 'num_components': 1, 'max_component_size': 617, 'max_run_length': 10, 'avg_run_length': 7.910256410256411, 'points_in_convex_hull': 14, 'gabor_mean_0': 1.1997155640194588, 'gabor_std_0': 16.834765252836824, 'gabor_mean_1': 1.40634670670744, 'gabor_std_1': 18.080626860050852, 'gabor_mean_2': 1.8199111290155219, 'gabor_std_2': 20.51912445597645, 'gabor_mean_3': 1.3566192403239885, 'gabor_std_3': 17.748128466597645}\n",
      "Patch 8 state features: {'height': 11, 'width': 3, 'aspect_ratio': 0.2727272727272727, 'density': 5.4933987658164106e-05, 'horizontal_transitions': 11.04313725490196, 'vertical_transitions': 3.011764705882353, 'variation_of_height': 0.3462444458504467, 'width_variation': 0.19071390962902557, 'num_components': 1, 'max_component_size': 18, 'max_run_length': 3, 'avg_run_length': 1.6363636363636365, 'points_in_convex_hull': 5, 'gabor_mean_0': 0.2112517014276733, 'gabor_std_0': 6.478090581482231, 'gabor_mean_1': 0.2037440564477242, 'gabor_std_1': 6.406245857133589, 'gabor_mean_2': 0.16529026508700934, 'gabor_std_2': 5.687870975815027, 'gabor_mean_3': 0.2127227115416308, 'gabor_std_3': 6.511288827549648}\n",
      "Patch 9 state features: {'height': 12, 'width': 16, 'aspect_ratio': 1.3333333333333333, 'density': 0.0003448633669651413, 'horizontal_transitions': 13.050980392156863, 'vertical_transitions': 16.062745098039215, 'variation_of_height': 2.0151995033720955, 'width_variation': 0.19883816002047328, 'num_components': 1, 'max_component_size': 113, 'max_run_length': 14, 'avg_run_length': 8.692307692307692, 'points_in_convex_hull': 9, 'gabor_mean_0': 0.4322511337764675, 'gabor_std_0': 9.823446251976007, 'gabor_mean_1': 0.5144049123192519, 'gabor_std_1': 10.588809030088392, 'gabor_mean_2': 0.3866742353494107, 'gabor_std_2': 9.242680531939525, 'gabor_mean_3': 0.40160102055141517, 'gabor_std_3': 9.443241599813561}\n",
      "Patch 10 state features: {'height': 13, 'width': 15, 'aspect_ratio': 1.1538461538461537, 'density': 0.00023499539164881312, 'horizontal_transitions': 13.050980392156863, 'vertical_transitions': 15.058823529411764, 'variation_of_height': 1.3554338009813809, 'width_variation': 0.20658609436686098, 'num_components': 1, 'max_component_size': 77, 'max_run_length': 10, 'avg_run_length': 5.923076923076923, 'points_in_convex_hull': 11, 'gabor_mean_0': 0.3437128051125231, 'gabor_std_0': 8.615861875280833, 'gabor_mean_1': 0.44795615047029597, 'gabor_std_1': 9.787428177608453, 'gabor_mean_2': 0.3487209536540257, 'gabor_std_2': 8.717798543289547, 'gabor_mean_3': 0.3666446930716034, 'gabor_std_3': 8.991518775064922}\n",
      "Patch 0 transition features: {'relative_location': 'right', 'convex_hull_distance': 0.0, 'ratio_of_aspect_ratios': 0.7125431778929189, 'ratio_of_number_of_components': 1.0}\n",
      "Patch 1 transition features: {'relative_location': 'left', 'convex_hull_distance': 0.0, 'ratio_of_aspect_ratios': 1.5099737219302436, 'ratio_of_number_of_components': 1.0}\n",
      "Patch 2 transition features: {'relative_location': 'left', 'convex_hull_distance': 0.0, 'ratio_of_aspect_ratios': 0.5540117524301169, 'ratio_of_number_of_components': 1.0}\n",
      "Patch 3 transition features: {'relative_location': 'left', 'convex_hull_distance': 0.0, 'ratio_of_aspect_ratios': 1.7769072164948454, 'ratio_of_number_of_components': 1.0}\n",
      "Patch 4 transition features: {'relative_location': 'left', 'convex_hull_distance': 0.0, 'ratio_of_aspect_ratios': 0.7343299239444007, 'ratio_of_number_of_components': 1.0}\n",
      "Patch 5 transition features: {'relative_location': 'left', 'convex_hull_distance': 0.0, 'ratio_of_aspect_ratios': 1.2551020408163267, 'ratio_of_number_of_components': 1.0}\n",
      "Patch 6 transition features: {'relative_location': 'left', 'convex_hull_distance': 0.0, 'ratio_of_aspect_ratios': 5.6875, 'ratio_of_number_of_components': 1.0}\n",
      "Patch 7 transition features: {'relative_location': 'right', 'convex_hull_distance': 0.0, 'ratio_of_aspect_ratios': 0.5641025641025642, 'ratio_of_number_of_components': 1.0}\n",
      "Patch 8 transition features: {'relative_location': 'right', 'convex_hull_distance': 0.0, 'ratio_of_aspect_ratios': 0.20454545454545453, 'ratio_of_number_of_components': 1.0}\n",
      "Patch 9 transition features: {'relative_location': 'left', 'convex_hull_distance': 0.0, 'ratio_of_aspect_ratios': 1.1555555555555557, 'ratio_of_number_of_components': 1.0}\n"
     ]
    }
   ],
   "source": [
    "for i, features in enumerate(state_features):\n",
    "    print(f'Patch {i} state features: {features}')\n",
    "for i, features in enumerate(transition_features):\n",
    "    print(f'Patch {i} transition features: {features}')\n"
   ]
  }
 ],
 "metadata": {
  "kernelspec": {
   "display_name": "base",
   "language": "python",
   "name": "python3"
  },
  "language_info": {
   "codemirror_mode": {
    "name": "ipython",
    "version": 3
   },
   "file_extension": ".py",
   "mimetype": "text/x-python",
   "name": "python",
   "nbconvert_exporter": "python",
   "pygments_lexer": "ipython3",
   "version": "3.11.7"
  }
 },
 "nbformat": 4,
 "nbformat_minor": 2
}
